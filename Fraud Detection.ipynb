{
 "cells": [
  {
   "cell_type": "markdown",
   "metadata": {},
   "source": [
    "FRAUD DETECTION USING GCLOUD."
   ]
  },
  {
   "cell_type": "code",
   "execution_count": 1,
   "metadata": {},
   "outputs": [],
   "source": [
    "#Importing the required libraries\n",
    "\n",
    "import itertools\n",
    "import numpy as np\n",
    "import pandas as pd\n",
    "import tensorflow as tf\n",
    "import json\n",
    "import matplotlib as mpl\n",
    "import matplotlib.pyplot as plt\n",
    "import explainable_ai_sdk\n",
    "\n",
    "from sklearn.utils import shuffle\n",
    "from sklearn.metrics import confusion_matrix\n",
    "from sklearn.preprocessing import StandardScaler\n",
    "from tensorflow import keras\n",
    "from explainable_ai_sdk.metadata.tf.v2 import SavedModelMetadataBuilder"
   ]
  },
  {
   "cell_type": "code",
   "execution_count": 2,
   "metadata": {},
   "outputs": [
    {
     "name": "stdout",
     "output_type": "stream",
     "text": [
      "Copying gs://financial_fraud_detection/fraud_data_kaggle.csv...\n",
      "\\ [1 files][303.4 MiB/303.4 MiB]                                                \n",
      "Operation completed over 1 objects/303.4 MiB.                                    \n"
     ]
    }
   ],
   "source": [
    "# Download the Kaggle Synthetic Dataset using gsutil command.\n",
    "\n",
    "!gsutil cp gs://financial_fraud_detection/fraud_data_kaggle.csv ."
   ]
  },
  {
   "cell_type": "code",
   "execution_count": 3,
   "metadata": {},
   "outputs": [
    {
     "data": {
      "text/html": [
       "<div>\n",
       "<style scoped>\n",
       "    .dataframe tbody tr th:only-of-type {\n",
       "        vertical-align: middle;\n",
       "    }\n",
       "\n",
       "    .dataframe tbody tr th {\n",
       "        vertical-align: top;\n",
       "    }\n",
       "\n",
       "    .dataframe thead th {\n",
       "        text-align: right;\n",
       "    }\n",
       "</style>\n",
       "<table border=\"1\" class=\"dataframe\">\n",
       "  <thead>\n",
       "    <tr style=\"text-align: right;\">\n",
       "      <th></th>\n",
       "      <th>step</th>\n",
       "      <th>amount</th>\n",
       "      <th>nameOrig</th>\n",
       "      <th>oldbalanceOrg</th>\n",
       "      <th>newbalanceOrig</th>\n",
       "      <th>nameDest</th>\n",
       "      <th>oldbalanceDest</th>\n",
       "      <th>newbalanceDest</th>\n",
       "      <th>isFraud</th>\n",
       "      <th>isFlaggedFraud</th>\n",
       "    </tr>\n",
       "  </thead>\n",
       "  <tbody>\n",
       "    <tr>\n",
       "      <th>0</th>\n",
       "      <td>1</td>\n",
       "      <td>9839.64</td>\n",
       "      <td>C1231006815</td>\n",
       "      <td>170136.0</td>\n",
       "      <td>160296.36</td>\n",
       "      <td>M1979787155</td>\n",
       "      <td>0.0</td>\n",
       "      <td>0.0</td>\n",
       "      <td>0.0</td>\n",
       "      <td>0.0</td>\n",
       "    </tr>\n",
       "    <tr>\n",
       "      <th>1</th>\n",
       "      <td>1</td>\n",
       "      <td>1864.28</td>\n",
       "      <td>C1666544295</td>\n",
       "      <td>21249.0</td>\n",
       "      <td>19384.72</td>\n",
       "      <td>M2044282225</td>\n",
       "      <td>0.0</td>\n",
       "      <td>0.0</td>\n",
       "      <td>0.0</td>\n",
       "      <td>0.0</td>\n",
       "    </tr>\n",
       "    <tr>\n",
       "      <th>2</th>\n",
       "      <td>1</td>\n",
       "      <td>181.00</td>\n",
       "      <td>C1305486145</td>\n",
       "      <td>181.0</td>\n",
       "      <td>0.00</td>\n",
       "      <td>C553264065</td>\n",
       "      <td>0.0</td>\n",
       "      <td>0.0</td>\n",
       "      <td>1.0</td>\n",
       "      <td>0.0</td>\n",
       "    </tr>\n",
       "    <tr>\n",
       "      <th>3</th>\n",
       "      <td>1</td>\n",
       "      <td>181.00</td>\n",
       "      <td>C840083671</td>\n",
       "      <td>181.0</td>\n",
       "      <td>0.00</td>\n",
       "      <td>C38997010</td>\n",
       "      <td>21182.0</td>\n",
       "      <td>0.0</td>\n",
       "      <td>1.0</td>\n",
       "      <td>0.0</td>\n",
       "    </tr>\n",
       "    <tr>\n",
       "      <th>4</th>\n",
       "      <td>1</td>\n",
       "      <td>11668.14</td>\n",
       "      <td>C2048537720</td>\n",
       "      <td>41554.0</td>\n",
       "      <td>29885.86</td>\n",
       "      <td>M1230701703</td>\n",
       "      <td>0.0</td>\n",
       "      <td>0.0</td>\n",
       "      <td>0.0</td>\n",
       "      <td>0.0</td>\n",
       "    </tr>\n",
       "  </tbody>\n",
       "</table>\n",
       "</div>"
      ],
      "text/plain": [
       "   step    amount     nameOrig  oldbalanceOrg  newbalanceOrig     nameDest  \\\n",
       "0     1   9839.64  C1231006815       170136.0       160296.36  M1979787155   \n",
       "1     1   1864.28  C1666544295        21249.0        19384.72  M2044282225   \n",
       "2     1    181.00  C1305486145          181.0            0.00   C553264065   \n",
       "3     1    181.00   C840083671          181.0            0.00    C38997010   \n",
       "4     1  11668.14  C2048537720        41554.0        29885.86  M1230701703   \n",
       "\n",
       "   oldbalanceDest  newbalanceDest  isFraud  isFlaggedFraud  \n",
       "0             0.0             0.0      0.0             0.0  \n",
       "1             0.0             0.0      0.0             0.0  \n",
       "2             0.0             0.0      1.0             0.0  \n",
       "3         21182.0             0.0      1.0             0.0  \n",
       "4             0.0             0.0      0.0             0.0  "
      ]
     },
     "execution_count": 3,
     "metadata": {},
     "output_type": "execute_result"
    }
   ],
   "source": [
    "# Read the downloaded data in jupyter notebook.\n",
    "\n",
    "data = pd.read_csv('fraud_data_kaggle.csv')\n",
    "data = data.drop(columns=['type'])\n",
    "data.head()"
   ]
  },
  {
   "cell_type": "code",
   "execution_count": 4,
   "metadata": {},
   "outputs": [],
   "source": [
    "# Down Sampling the Data so that we have a balanced dataset with 75-25 percent ratio of Non-fraud vs Fraud respectively.\n",
    "\n",
    "fraud = data[data['isFraud'] == 1]\n",
    "not_fraud = data[data['isFraud'] == 0]"
   ]
  },
  {
   "cell_type": "code",
   "execution_count": 5,
   "metadata": {},
   "outputs": [
    {
     "name": "stdout",
     "output_type": "stream",
     "text": [
      "(4103092, 10)\n",
      "(20515, 10)\n"
     ]
    }
   ],
   "source": [
    "# Take random 75% of data from Not fraud dataset\n",
    "\n",
    "print(not_fraud.shape)\n",
    "not_fraud_sample=not_fraud.sample(random_state=2, frac=.005 )\n",
    "print(not_fraud_sample.shape)"
   ]
  },
  {
   "cell_type": "code",
   "execution_count": 6,
   "metadata": {},
   "outputs": [],
   "source": [
    "# Put them back together and shuffle them\n",
    "\n",
    "df=pd.concat([not_fraud_sample,fraud])\n",
    "df=shuffle(df,random_state=2)\n"
   ]
  },
  {
   "cell_type": "code",
   "execution_count": 7,
   "metadata": {},
   "outputs": [
    {
     "name": "stdout",
     "output_type": "stream",
     "text": [
      "(23926, 7)\n"
     ]
    }
   ],
   "source": [
    "# Drop redundant columns\n",
    "\n",
    "df=df.drop(columns=['nameOrig', 'nameDest', 'isFlaggedFraud'])\n",
    "df.head()\n",
    "print(df.shape)"
   ]
  },
  {
   "cell_type": "code",
   "execution_count": 8,
   "metadata": {},
   "outputs": [],
   "source": [
    "# Now we split our datd set into traing and testing datasets\n",
    "\n",
    "#Storing 80% of rows' index which will help us in slicling the dataset.\n",
    "train_test_split = int(len(df) * .8)\n",
    "\n",
    "train_set = df[:train_test_split]\n",
    "test_set = df[train_test_split:]\n",
    "\n",
    "train_labels = train_set.pop('isFraud')\n",
    "test_labels = test_set.pop('isFraud')\n"
   ]
  },
  {
   "cell_type": "code",
   "execution_count": 9,
   "metadata": {},
   "outputs": [],
   "source": [
    "# Next step is to Normalize the data using Standard Scalar\n",
    "\n",
    "scaler = StandardScaler()\n",
    "train_set = scaler.fit_transform(train_set) # Only normalize on the train set\n",
    "test_set = scaler.transform(test_set)\n",
    "\n",
    "# clip() ensures all values fall within the range [-5,5]\n",
    "# useful if any outliers remain after normalizing\n",
    "train_set = np.clip(train_set, -5, 5)\n",
    "test_set = np.clip(test_set, -5, 5)"
   ]
  },
  {
   "cell_type": "code",
   "execution_count": 10,
   "metadata": {},
   "outputs": [],
   "source": [
    "#Now we need to define a class weight for the dataset\n",
    "#The Keras class_weight parameter lets us specify exactly how much weight we want to give examples from each class, based on how often they occur in the dataset:\n",
    "\n",
    "weight_for_non_fraud = 1.0 / df['isFraud'].value_counts()[0]\n",
    "weight_for_fraud = 1.0 / df['isFraud'].value_counts()[1]\n",
    "\n",
    "class_weight = {0: weight_for_non_fraud, 1: weight_for_fraud}\n"
   ]
  },
  {
   "cell_type": "code",
   "execution_count": 11,
   "metadata": {},
   "outputs": [],
   "source": [
    "# Train and Evaluate the model\n",
    "\n",
    "METRICS = [\n",
    "      keras.metrics.TruePositives(name='tp'),\n",
    "      keras.metrics.FalsePositives(name='fp'),\n",
    "      keras.metrics.TrueNegatives(name='tn'),\n",
    "      keras.metrics.FalseNegatives(name='fn'), \n",
    "      keras.metrics.BinaryAccuracy(name='accuracy'),\n",
    "      keras.metrics.Precision(name='precision'),\n",
    "      keras.metrics.Recall(name='recall'),\n",
    "      keras.metrics.AUC(name='auc'),\n",
    "]\n",
    "\n",
    "def make_model(metrics = METRICS):\n",
    "  model = keras.Sequential([\n",
    "      keras.layers.Dense(\n",
    "          16, activation='relu',\n",
    "          input_shape=(train_set.shape[-1],)),\n",
    "      keras.layers.Dropout(0.5),\n",
    "      keras.layers.Dense(1, activation='sigmoid'),\n",
    "  ])\n",
    "\n",
    "  model.compile(\n",
    "      optimizer=keras.optimizers.Adam(lr=1e-3),\n",
    "      loss=keras.losses.BinaryCrossentropy(),\n",
    "      metrics=metrics)\n",
    "\n",
    "  return model"
   ]
  },
  {
   "cell_type": "code",
   "execution_count": 12,
   "metadata": {},
   "outputs": [],
   "source": [
    "EPOCHS = 100\n",
    "BATCH_SIZE = 512\n",
    "\n",
    "early_stopping = tf.keras.callbacks.EarlyStopping(\n",
    "    monitor='val_auc', \n",
    "    verbose=1,\n",
    "    patience=10,\n",
    "    mode='max',\n",
    "    restore_best_weights=True)"
   ]
  },
  {
   "cell_type": "code",
   "execution_count": 13,
   "metadata": {},
   "outputs": [
    {
     "name": "stdout",
     "output_type": "stream",
     "text": [
      "Model: \"sequential\"\n",
      "_________________________________________________________________\n",
      "Layer (type)                 Output Shape              Param #   \n",
      "=================================================================\n",
      "dense (Dense)                (None, 16)                112       \n",
      "_________________________________________________________________\n",
      "dropout (Dropout)            (None, 16)                0         \n",
      "_________________________________________________________________\n",
      "dense_1 (Dense)              (None, 1)                 17        \n",
      "=================================================================\n",
      "Total params: 129\n",
      "Trainable params: 129\n",
      "Non-trainable params: 0\n",
      "_________________________________________________________________\n"
     ]
    }
   ],
   "source": [
    "model = make_model()\n",
    "model.summary()"
   ]
  },
  {
   "cell_type": "code",
   "execution_count": 14,
   "metadata": {},
   "outputs": [
    {
     "name": "stdout",
     "output_type": "stream",
     "text": [
      "WARNING:tensorflow:sample_weight modes were coerced from\n",
      "  ...\n",
      "    to  \n",
      "  ['...']\n",
      "WARNING:tensorflow:sample_weight modes were coerced from\n",
      "  ...\n",
      "    to  \n",
      "  ['...']\n",
      "Train on 19140 samples, validate on 4786 samples\n",
      "Epoch 1/100\n",
      "19140/19140 [==============================] - 4s 205us/sample - loss: 6.4983e-05 - tp: 1887.0000 - fp: 11415.0000 - tn: 5016.0000 - fn: 822.0000 - accuracy: 0.3607 - precision: 0.1419 - recall: 0.6966 - auc: 0.4927 - val_loss: 6.0874e-05 - val_tp: 586.0000 - val_fp: 2839.0000 - val_tn: 1245.0000 - val_fn: 116.0000 - val_accuracy: 0.3826 - val_precision: 0.1711 - val_recall: 0.8348 - val_auc: 0.5719\n",
      "Epoch 2/100\n",
      "19140/19140 [==============================] - 0s 22us/sample - loss: 6.0310e-05 - tp: 1774.0000 - fp: 9664.0000 - tn: 6767.0000 - fn: 935.0000 - accuracy: 0.4462 - precision: 0.1551 - recall: 0.6549 - auc: 0.5615 - val_loss: 5.7124e-05 - val_tp: 501.0000 - val_fp: 2076.0000 - val_tn: 2008.0000 - val_fn: 201.0000 - val_accuracy: 0.5242 - val_precision: 0.1944 - val_recall: 0.7137 - val_auc: 0.6499\n",
      "Epoch 3/100\n",
      "19140/19140 [==============================] - 0s 20us/sample - loss: 5.7307e-05 - tp: 1733.0000 - fp: 8360.0000 - tn: 8071.0000 - fn: 976.0000 - accuracy: 0.5122 - precision: 0.1717 - recall: 0.6397 - auc: 0.6075 - val_loss: 5.4184e-05 - val_tp: 478.0000 - val_fp: 1689.0000 - val_tn: 2395.0000 - val_fn: 224.0000 - val_accuracy: 0.6003 - val_precision: 0.2206 - val_recall: 0.6809 - val_auc: 0.7109\n",
      "Epoch 4/100\n",
      "19140/19140 [==============================] - 0s 25us/sample - loss: 5.4710e-05 - tp: 1714.0000 - fp: 6918.0000 - tn: 9513.0000 - fn: 995.0000 - accuracy: 0.5866 - precision: 0.1986 - recall: 0.6327 - auc: 0.6535 - val_loss: 5.1838e-05 - val_tp: 473.0000 - val_fp: 1492.0000 - val_tn: 2592.0000 - val_fn: 229.0000 - val_accuracy: 0.6404 - val_precision: 0.2407 - val_recall: 0.6738 - val_auc: 0.7490\n",
      "Epoch 5/100\n",
      "19140/19140 [==============================] - 1s 27us/sample - loss: 5.2289e-05 - tp: 1681.0000 - fp: 5760.0000 - tn: 10671.0000 - fn: 1028.0000 - accuracy: 0.6454 - precision: 0.2259 - recall: 0.6205 - auc: 0.6918 - val_loss: 4.9933e-05 - val_tp: 451.0000 - val_fp: 1303.0000 - val_tn: 2781.0000 - val_fn: 251.0000 - val_accuracy: 0.6753 - val_precision: 0.2571 - val_recall: 0.6425 - val_auc: 0.7751\n",
      "Epoch 6/100\n",
      "19140/19140 [==============================] - 1s 27us/sample - loss: 5.0869e-05 - tp: 1685.0000 - fp: 5054.0000 - tn: 11377.0000 - fn: 1024.0000 - accuracy: 0.6824 - precision: 0.2500 - recall: 0.6220 - auc: 0.7188 - val_loss: 4.8281e-05 - val_tp: 436.0000 - val_fp: 958.0000 - val_tn: 3126.0000 - val_fn: 266.0000 - val_accuracy: 0.7443 - val_precision: 0.3128 - val_recall: 0.6211 - val_auc: 0.7930\n",
      "Epoch 7/100\n",
      "19140/19140 [==============================] - 1s 27us/sample - loss: 4.9107e-05 - tp: 1661.0000 - fp: 4240.0000 - tn: 12191.0000 - fn: 1048.0000 - accuracy: 0.7237 - precision: 0.2815 - recall: 0.6131 - auc: 0.7428 - val_loss: 4.6958e-05 - val_tp: 412.0000 - val_fp: 527.0000 - val_tn: 3557.0000 - val_fn: 290.0000 - val_accuracy: 0.8293 - val_precision: 0.4388 - val_recall: 0.5869 - val_auc: 0.8080\n",
      "Epoch 8/100\n",
      "19140/19140 [==============================] - 0s 19us/sample - loss: 4.8131e-05 - tp: 1671.0000 - fp: 3743.0000 - tn: 12688.0000 - fn: 1038.0000 - accuracy: 0.7502 - precision: 0.3086 - recall: 0.6168 - auc: 0.7581 - val_loss: 4.5875e-05 - val_tp: 403.0000 - val_fp: 412.0000 - val_tn: 3672.0000 - val_fn: 299.0000 - val_accuracy: 0.8514 - val_precision: 0.4945 - val_recall: 0.5741 - val_auc: 0.8175\n",
      "Epoch 9/100\n",
      "19140/19140 [==============================] - 0s 18us/sample - loss: 4.7133e-05 - tp: 1634.0000 - fp: 3120.0000 - tn: 13311.0000 - fn: 1075.0000 - accuracy: 0.7808 - precision: 0.3437 - recall: 0.6032 - auc: 0.7708 - val_loss: 4.5001e-05 - val_tp: 401.0000 - val_fp: 365.0000 - val_tn: 3719.0000 - val_fn: 301.0000 - val_accuracy: 0.8608 - val_precision: 0.5235 - val_recall: 0.5712 - val_auc: 0.8247\n",
      "Epoch 10/100\n",
      "19140/19140 [==============================] - 0s 22us/sample - loss: 4.5835e-05 - tp: 1658.0000 - fp: 2901.0000 - tn: 13530.0000 - fn: 1051.0000 - accuracy: 0.7935 - precision: 0.3637 - recall: 0.6120 - auc: 0.7842 - val_loss: 4.4225e-05 - val_tp: 399.0000 - val_fp: 364.0000 - val_tn: 3720.0000 - val_fn: 303.0000 - val_accuracy: 0.8606 - val_precision: 0.5229 - val_recall: 0.5684 - val_auc: 0.8302\n",
      "Epoch 11/100\n",
      "19140/19140 [==============================] - 1s 27us/sample - loss: 4.5412e-05 - tp: 1628.0000 - fp: 2531.0000 - tn: 13900.0000 - fn: 1081.0000 - accuracy: 0.8113 - precision: 0.3914 - recall: 0.6010 - auc: 0.7865 - val_loss: 4.3538e-05 - val_tp: 405.0000 - val_fp: 368.0000 - val_tn: 3716.0000 - val_fn: 297.0000 - val_accuracy: 0.8611 - val_precision: 0.5239 - val_recall: 0.5769 - val_auc: 0.8330\n",
      "Epoch 12/100\n",
      "19140/19140 [==============================] - 1s 26us/sample - loss: 4.4419e-05 - tp: 1682.0000 - fp: 2385.0000 - tn: 14046.0000 - fn: 1027.0000 - accuracy: 0.8217 - precision: 0.4136 - recall: 0.6209 - auc: 0.8042 - val_loss: 4.2952e-05 - val_tp: 406.0000 - val_fp: 366.0000 - val_tn: 3718.0000 - val_fn: 296.0000 - val_accuracy: 0.8617 - val_precision: 0.5259 - val_recall: 0.5783 - val_auc: 0.8344\n",
      "Epoch 13/100\n",
      "19140/19140 [==============================] - 0s 21us/sample - loss: 4.4034e-05 - tp: 1670.0000 - fp: 2308.0000 - tn: 14123.0000 - fn: 1039.0000 - accuracy: 0.8251 - precision: 0.4198 - recall: 0.6165 - auc: 0.8050 - val_loss: 4.2354e-05 - val_tp: 410.0000 - val_fp: 383.0000 - val_tn: 3701.0000 - val_fn: 292.0000 - val_accuracy: 0.8590 - val_precision: 0.5170 - val_recall: 0.5840 - val_auc: 0.8400\n",
      "Epoch 14/100\n",
      "19140/19140 [==============================] - 0s 18us/sample - loss: 4.3689e-05 - tp: 1658.0000 - fp: 2273.0000 - tn: 14158.0000 - fn: 1051.0000 - accuracy: 0.8263 - precision: 0.4218 - recall: 0.6120 - auc: 0.8072 - val_loss: 4.1914e-05 - val_tp: 412.0000 - val_fp: 381.0000 - val_tn: 3703.0000 - val_fn: 290.0000 - val_accuracy: 0.8598 - val_precision: 0.5195 - val_recall: 0.5869 - val_auc: 0.8427\n",
      "Epoch 15/100\n",
      "19140/19140 [==============================] - 0s 21us/sample - loss: 4.3010e-05 - tp: 1667.0000 - fp: 2077.0000 - tn: 14354.0000 - fn: 1042.0000 - accuracy: 0.8370 - precision: 0.4452 - recall: 0.6154 - auc: 0.8152 - val_loss: 4.1571e-05 - val_tp: 413.0000 - val_fp: 365.0000 - val_tn: 3719.0000 - val_fn: 289.0000 - val_accuracy: 0.8634 - val_precision: 0.5308 - val_recall: 0.5883 - val_auc: 0.8450\n",
      "Epoch 16/100\n",
      "19140/19140 [==============================] - 0s 20us/sample - loss: 4.3050e-05 - tp: 1649.0000 - fp: 1958.0000 - tn: 14473.0000 - fn: 1060.0000 - accuracy: 0.8423 - precision: 0.4572 - recall: 0.6087 - auc: 0.8131 - val_loss: 4.1220e-05 - val_tp: 420.0000 - val_fp: 363.0000 - val_tn: 3721.0000 - val_fn: 282.0000 - val_accuracy: 0.8652 - val_precision: 0.5364 - val_recall: 0.5983 - val_auc: 0.8463\n",
      "Epoch 17/100\n",
      "19140/19140 [==============================] - 0s 20us/sample - loss: 4.2055e-05 - tp: 1717.0000 - fp: 2022.0000 - tn: 14409.0000 - fn: 992.0000 - accuracy: 0.8425 - precision: 0.4592 - recall: 0.6338 - auc: 0.8281 - val_loss: 4.0868e-05 - val_tp: 421.0000 - val_fp: 367.0000 - val_tn: 3717.0000 - val_fn: 281.0000 - val_accuracy: 0.8646 - val_precision: 0.5343 - val_recall: 0.5997 - val_auc: 0.8473\n",
      "Epoch 18/100\n",
      "19140/19140 [==============================] - 0s 22us/sample - loss: 4.2029e-05 - tp: 1705.0000 - fp: 1940.0000 - tn: 14491.0000 - fn: 1004.0000 - accuracy: 0.8462 - precision: 0.4678 - recall: 0.6294 - auc: 0.8234 - val_loss: 4.0589e-05 - val_tp: 421.0000 - val_fp: 363.0000 - val_tn: 3721.0000 - val_fn: 281.0000 - val_accuracy: 0.8654 - val_precision: 0.5370 - val_recall: 0.5997 - val_auc: 0.8489\n",
      "Epoch 19/100\n",
      "19140/19140 [==============================] - 0s 21us/sample - loss: 4.1834e-05 - tp: 1671.0000 - fp: 1845.0000 - tn: 14586.0000 - fn: 1038.0000 - accuracy: 0.8494 - precision: 0.4753 - recall: 0.6168 - auc: 0.8271 - val_loss: 4.0344e-05 - val_tp: 420.0000 - val_fp: 352.0000 - val_tn: 3732.0000 - val_fn: 282.0000 - val_accuracy: 0.8675 - val_precision: 0.5440 - val_recall: 0.5983 - val_auc: 0.8498\n",
      "Epoch 20/100\n",
      "19140/19140 [==============================] - 0s 15us/sample - loss: 4.1315e-05 - tp: 1692.0000 - fp: 1806.0000 - tn: 14625.0000 - fn: 1017.0000 - accuracy: 0.8525 - precision: 0.4837 - recall: 0.6246 - auc: 0.8310 - val_loss: 4.0097e-05 - val_tp: 421.0000 - val_fp: 357.0000 - val_tn: 3727.0000 - val_fn: 281.0000 - val_accuracy: 0.8667 - val_precision: 0.5411 - val_recall: 0.5997 - val_auc: 0.8511\n",
      "Epoch 21/100\n",
      "19140/19140 [==============================] - 0s 17us/sample - loss: 4.1261e-05 - tp: 1708.0000 - fp: 1712.0000 - tn: 14719.0000 - fn: 1001.0000 - accuracy: 0.8583 - precision: 0.4994 - recall: 0.6305 - auc: 0.8319 - val_loss: 3.9856e-05 - val_tp: 426.0000 - val_fp: 360.0000 - val_tn: 3724.0000 - val_fn: 276.0000 - val_accuracy: 0.8671 - val_precision: 0.5420 - val_recall: 0.6068 - val_auc: 0.8540\n",
      "Epoch 22/100\n",
      "19140/19140 [==============================] - 0s 14us/sample - loss: 4.1082e-05 - tp: 1706.0000 - fp: 1694.0000 - tn: 14737.0000 - fn: 1003.0000 - accuracy: 0.8591 - precision: 0.5018 - recall: 0.6298 - auc: 0.8327 - val_loss: 3.9647e-05 - val_tp: 431.0000 - val_fp: 366.0000 - val_tn: 3718.0000 - val_fn: 271.0000 - val_accuracy: 0.8669 - val_precision: 0.5408 - val_recall: 0.6140 - val_auc: 0.8550\n",
      "Epoch 23/100\n",
      "19140/19140 [==============================] - 0s 15us/sample - loss: 4.0619e-05 - tp: 1709.0000 - fp: 1690.0000 - tn: 14741.0000 - fn: 1000.0000 - accuracy: 0.8595 - precision: 0.5028 - recall: 0.6309 - auc: 0.8381 - val_loss: 3.9453e-05 - val_tp: 430.0000 - val_fp: 353.0000 - val_tn: 3731.0000 - val_fn: 272.0000 - val_accuracy: 0.8694 - val_precision: 0.5492 - val_recall: 0.6125 - val_auc: 0.8565\n",
      "Epoch 24/100\n",
      "19140/19140 [==============================] - 0s 13us/sample - loss: 4.0502e-05 - tp: 1705.0000 - fp: 1548.0000 - tn: 14883.0000 - fn: 1004.0000 - accuracy: 0.8667 - precision: 0.5241 - recall: 0.6294 - auc: 0.8408 - val_loss: 3.9268e-05 - val_tp: 430.0000 - val_fp: 350.0000 - val_tn: 3734.0000 - val_fn: 272.0000 - val_accuracy: 0.8700 - val_precision: 0.5513 - val_recall: 0.6125 - val_auc: 0.8566\n",
      "Epoch 25/100\n",
      "19140/19140 [==============================] - 0s 16us/sample - loss: 4.0181e-05 - tp: 1683.0000 - fp: 1550.0000 - tn: 14881.0000 - fn: 1026.0000 - accuracy: 0.8654 - precision: 0.5206 - recall: 0.6213 - auc: 0.8420 - val_loss: 3.9085e-05 - val_tp: 432.0000 - val_fp: 343.0000 - val_tn: 3741.0000 - val_fn: 270.0000 - val_accuracy: 0.8719 - val_precision: 0.5574 - val_recall: 0.6154 - val_auc: 0.8582\n",
      "Epoch 26/100\n",
      "19140/19140 [==============================] - 0s 14us/sample - loss: 4.0015e-05 - tp: 1740.0000 - fp: 1528.0000 - tn: 14903.0000 - fn: 969.0000 - accuracy: 0.8695 - precision: 0.5324 - recall: 0.6423 - auc: 0.8426 - val_loss: 3.8910e-05 - val_tp: 434.0000 - val_fp: 339.0000 - val_tn: 3745.0000 - val_fn: 268.0000 - val_accuracy: 0.8732 - val_precision: 0.5614 - val_recall: 0.6182 - val_auc: 0.8592\n",
      "Epoch 27/100\n",
      "19140/19140 [==============================] - 0s 16us/sample - loss: 3.9724e-05 - tp: 1697.0000 - fp: 1457.0000 - tn: 14974.0000 - fn: 1012.0000 - accuracy: 0.8710 - precision: 0.5380 - recall: 0.6264 - auc: 0.8470 - val_loss: 3.8731e-05 - val_tp: 434.0000 - val_fp: 324.0000 - val_tn: 3760.0000 - val_fn: 268.0000 - val_accuracy: 0.8763 - val_precision: 0.5726 - val_recall: 0.6182 - val_auc: 0.8622\n",
      "Epoch 28/100\n",
      "19140/19140 [==============================] - 0s 18us/sample - loss: 3.9593e-05 - tp: 1724.0000 - fp: 1479.0000 - tn: 14952.0000 - fn: 985.0000 - accuracy: 0.8713 - precision: 0.5382 - recall: 0.6364 - auc: 0.8481 - val_loss: 3.8555e-05 - val_tp: 438.0000 - val_fp: 329.0000 - val_tn: 3755.0000 - val_fn: 264.0000 - val_accuracy: 0.8761 - val_precision: 0.5711 - val_recall: 0.6239 - val_auc: 0.8635\n",
      "Epoch 29/100\n",
      "19140/19140 [==============================] - 0s 20us/sample - loss: 3.9387e-05 - tp: 1708.0000 - fp: 1431.0000 - tn: 15000.0000 - fn: 1001.0000 - accuracy: 0.8729 - precision: 0.5441 - recall: 0.6305 - auc: 0.8495 - val_loss: 3.8398e-05 - val_tp: 439.0000 - val_fp: 330.0000 - val_tn: 3754.0000 - val_fn: 263.0000 - val_accuracy: 0.8761 - val_precision: 0.5709 - val_recall: 0.6254 - val_auc: 0.8630\n",
      "Epoch 30/100\n",
      "19140/19140 [==============================] - 0s 20us/sample - loss: 3.9289e-05 - tp: 1740.0000 - fp: 1407.0000 - tn: 15024.0000 - fn: 969.0000 - accuracy: 0.8759 - precision: 0.5529 - recall: 0.6423 - auc: 0.8515 - val_loss: 3.8213e-05 - val_tp: 443.0000 - val_fp: 330.0000 - val_tn: 3754.0000 - val_fn: 259.0000 - val_accuracy: 0.8769 - val_precision: 0.5731 - val_recall: 0.6311 - val_auc: 0.8646\n",
      "Epoch 31/100\n",
      "19140/19140 [==============================] - 0s 16us/sample - loss: 3.9121e-05 - tp: 1737.0000 - fp: 1484.0000 - tn: 14947.0000 - fn: 972.0000 - accuracy: 0.8717 - precision: 0.5393 - recall: 0.6412 - auc: 0.8522 - val_loss: 3.8072e-05 - val_tp: 438.0000 - val_fp: 315.0000 - val_tn: 3769.0000 - val_fn: 264.0000 - val_accuracy: 0.8790 - val_precision: 0.5817 - val_recall: 0.6239 - val_auc: 0.8666\n",
      "Epoch 32/100\n",
      "19140/19140 [==============================] - 0s 18us/sample - loss: 3.9006e-05 - tp: 1715.0000 - fp: 1337.0000 - tn: 15094.0000 - fn: 994.0000 - accuracy: 0.8782 - precision: 0.5619 - recall: 0.6331 - auc: 0.8510 - val_loss: 3.7936e-05 - val_tp: 442.0000 - val_fp: 312.0000 - val_tn: 3772.0000 - val_fn: 260.0000 - val_accuracy: 0.8805 - val_precision: 0.5862 - val_recall: 0.6296 - val_auc: 0.8673\n",
      "Epoch 33/100\n",
      "19140/19140 [==============================] - 0s 25us/sample - loss: 3.8805e-05 - tp: 1734.0000 - fp: 1344.0000 - tn: 15087.0000 - fn: 975.0000 - accuracy: 0.8788 - precision: 0.5634 - recall: 0.6401 - auc: 0.8556 - val_loss: 3.7790e-05 - val_tp: 442.0000 - val_fp: 303.0000 - val_tn: 3781.0000 - val_fn: 260.0000 - val_accuracy: 0.8824 - val_precision: 0.5933 - val_recall: 0.6296 - val_auc: 0.8690\n",
      "Epoch 34/100\n",
      "19140/19140 [==============================] - 0s 18us/sample - loss: 3.8495e-05 - tp: 1761.0000 - fp: 1281.0000 - tn: 15150.0000 - fn: 948.0000 - accuracy: 0.8835 - precision: 0.5789 - recall: 0.6501 - auc: 0.8554 - val_loss: 3.7643e-05 - val_tp: 445.0000 - val_fp: 311.0000 - val_tn: 3773.0000 - val_fn: 257.0000 - val_accuracy: 0.8813 - val_precision: 0.5886 - val_recall: 0.6339 - val_auc: 0.8693\n",
      "Epoch 35/100\n",
      "19140/19140 [==============================] - 0s 18us/sample - loss: 3.8089e-05 - tp: 1763.0000 - fp: 1330.0000 - tn: 15101.0000 - fn: 946.0000 - accuracy: 0.8811 - precision: 0.5700 - recall: 0.6508 - auc: 0.8618 - val_loss: 3.7467e-05 - val_tp: 445.0000 - val_fp: 304.0000 - val_tn: 3780.0000 - val_fn: 257.0000 - val_accuracy: 0.8828 - val_precision: 0.5941 - val_recall: 0.6339 - val_auc: 0.8701\n",
      "Epoch 36/100\n",
      "19140/19140 [==============================] - 0s 19us/sample - loss: 3.8158e-05 - tp: 1775.0000 - fp: 1311.0000 - tn: 15120.0000 - fn: 934.0000 - accuracy: 0.8827 - precision: 0.5752 - recall: 0.6552 - auc: 0.8581 - val_loss: 3.7335e-05 - val_tp: 443.0000 - val_fp: 293.0000 - val_tn: 3791.0000 - val_fn: 259.0000 - val_accuracy: 0.8847 - val_precision: 0.6019 - val_recall: 0.6311 - val_auc: 0.8724\n",
      "Epoch 37/100\n",
      "19140/19140 [==============================] - 0s 17us/sample - loss: 3.7933e-05 - tp: 1733.0000 - fp: 1224.0000 - tn: 15207.0000 - fn: 976.0000 - accuracy: 0.8851 - precision: 0.5861 - recall: 0.6397 - auc: 0.8618 - val_loss: 3.7176e-05 - val_tp: 448.0000 - val_fp: 299.0000 - val_tn: 3785.0000 - val_fn: 254.0000 - val_accuracy: 0.8845 - val_precision: 0.5997 - val_recall: 0.6382 - val_auc: 0.8725\n",
      "Epoch 38/100\n",
      "19140/19140 [==============================] - 0s 17us/sample - loss: 3.7905e-05 - tp: 1773.0000 - fp: 1297.0000 - tn: 15134.0000 - fn: 936.0000 - accuracy: 0.8833 - precision: 0.5775 - recall: 0.6545 - auc: 0.8616 - val_loss: 3.7054e-05 - val_tp: 446.0000 - val_fp: 287.0000 - val_tn: 3797.0000 - val_fn: 256.0000 - val_accuracy: 0.8865 - val_precision: 0.6085 - val_recall: 0.6353 - val_auc: 0.8744\n",
      "Epoch 39/100\n",
      "19140/19140 [==============================] - 0s 16us/sample - loss: 3.7760e-05 - tp: 1765.0000 - fp: 1216.0000 - tn: 15215.0000 - fn: 944.0000 - accuracy: 0.8871 - precision: 0.5921 - recall: 0.6515 - auc: 0.8648 - val_loss: 3.6907e-05 - val_tp: 447.0000 - val_fp: 287.0000 - val_tn: 3797.0000 - val_fn: 255.0000 - val_accuracy: 0.8868 - val_precision: 0.6090 - val_recall: 0.6368 - val_auc: 0.8765\n",
      "Epoch 40/100\n",
      "19140/19140 [==============================] - 0s 17us/sample - loss: 3.7483e-05 - tp: 1737.0000 - fp: 1169.0000 - tn: 15262.0000 - fn: 972.0000 - accuracy: 0.8881 - precision: 0.5977 - recall: 0.6412 - auc: 0.8688 - val_loss: 3.6751e-05 - val_tp: 447.0000 - val_fp: 282.0000 - val_tn: 3802.0000 - val_fn: 255.0000 - val_accuracy: 0.8878 - val_precision: 0.6132 - val_recall: 0.6368 - val_auc: 0.8784\n",
      "Epoch 41/100\n",
      "19140/19140 [==============================] - 0s 20us/sample - loss: 3.7415e-05 - tp: 1765.0000 - fp: 1157.0000 - tn: 15274.0000 - fn: 944.0000 - accuracy: 0.8902 - precision: 0.6040 - recall: 0.6515 - auc: 0.8685 - val_loss: 3.6607e-05 - val_tp: 449.0000 - val_fp: 272.0000 - val_tn: 3812.0000 - val_fn: 253.0000 - val_accuracy: 0.8903 - val_precision: 0.6227 - val_recall: 0.6396 - val_auc: 0.8797\n",
      "Epoch 42/100\n",
      "19140/19140 [==============================] - 0s 19us/sample - loss: 3.7152e-05 - tp: 1767.0000 - fp: 1151.0000 - tn: 15280.0000 - fn: 942.0000 - accuracy: 0.8906 - precision: 0.6056 - recall: 0.6523 - auc: 0.8688 - val_loss: 3.6487e-05 - val_tp: 446.0000 - val_fp: 259.0000 - val_tn: 3825.0000 - val_fn: 256.0000 - val_accuracy: 0.8924 - val_precision: 0.6326 - val_recall: 0.6353 - val_auc: 0.8808\n",
      "Epoch 43/100\n",
      "19140/19140 [==============================] - 0s 22us/sample - loss: 3.7280e-05 - tp: 1753.0000 - fp: 1096.0000 - tn: 15335.0000 - fn: 956.0000 - accuracy: 0.8928 - precision: 0.6153 - recall: 0.6471 - auc: 0.8684 - val_loss: 3.6324e-05 - val_tp: 452.0000 - val_fp: 272.0000 - val_tn: 3812.0000 - val_fn: 250.0000 - val_accuracy: 0.8909 - val_precision: 0.6243 - val_recall: 0.6439 - val_auc: 0.8813\n",
      "Epoch 44/100\n",
      "19140/19140 [==============================] - 0s 18us/sample - loss: 3.7096e-05 - tp: 1777.0000 - fp: 1148.0000 - tn: 15283.0000 - fn: 932.0000 - accuracy: 0.8913 - precision: 0.6075 - recall: 0.6560 - auc: 0.8687 - val_loss: 3.6197e-05 - val_tp: 450.0000 - val_fp: 261.0000 - val_tn: 3823.0000 - val_fn: 252.0000 - val_accuracy: 0.8928 - val_precision: 0.6329 - val_recall: 0.6410 - val_auc: 0.8835\n",
      "Epoch 45/100\n",
      "19140/19140 [==============================] - 0s 18us/sample - loss: 3.6426e-05 - tp: 1797.0000 - fp: 1091.0000 - tn: 15340.0000 - fn: 912.0000 - accuracy: 0.8954 - precision: 0.6222 - recall: 0.6633 - auc: 0.8746 - val_loss: 3.6061e-05 - val_tp: 446.0000 - val_fp: 241.0000 - val_tn: 3843.0000 - val_fn: 256.0000 - val_accuracy: 0.8962 - val_precision: 0.6492 - val_recall: 0.6353 - val_auc: 0.8863\n",
      "Epoch 46/100\n",
      "19140/19140 [==============================] - 0s 23us/sample - loss: 3.6603e-05 - tp: 1812.0000 - fp: 1091.0000 - tn: 15340.0000 - fn: 897.0000 - accuracy: 0.8961 - precision: 0.6242 - recall: 0.6689 - auc: 0.8740 - val_loss: 3.5885e-05 - val_tp: 457.0000 - val_fp: 265.0000 - val_tn: 3819.0000 - val_fn: 245.0000 - val_accuracy: 0.8934 - val_precision: 0.6330 - val_recall: 0.6510 - val_auc: 0.8868\n",
      "Epoch 47/100\n",
      "19140/19140 [==============================] - 0s 18us/sample - loss: 3.6677e-05 - tp: 1780.0000 - fp: 1067.0000 - tn: 15364.0000 - fn: 929.0000 - accuracy: 0.8957 - precision: 0.6252 - recall: 0.6571 - auc: 0.8726 - val_loss: 3.5742e-05 - val_tp: 457.0000 - val_fp: 261.0000 - val_tn: 3823.0000 - val_fn: 245.0000 - val_accuracy: 0.8943 - val_precision: 0.6365 - val_recall: 0.6510 - val_auc: 0.8886\n",
      "Epoch 48/100\n",
      "19140/19140 [==============================] - 0s 20us/sample - loss: 3.6304e-05 - tp: 1777.0000 - fp: 1028.0000 - tn: 15403.0000 - fn: 932.0000 - accuracy: 0.8976 - precision: 0.6335 - recall: 0.6560 - auc: 0.8758 - val_loss: 3.5581e-05 - val_tp: 457.0000 - val_fp: 262.0000 - val_tn: 3822.0000 - val_fn: 245.0000 - val_accuracy: 0.8941 - val_precision: 0.6356 - val_recall: 0.6510 - val_auc: 0.8911\n",
      "Epoch 49/100\n",
      "19140/19140 [==============================] - 0s 20us/sample - loss: 3.6392e-05 - tp: 1808.0000 - fp: 1118.0000 - tn: 15313.0000 - fn: 901.0000 - accuracy: 0.8945 - precision: 0.6179 - recall: 0.6674 - auc: 0.8779 - val_loss: 3.5463e-05 - val_tp: 457.0000 - val_fp: 243.0000 - val_tn: 3841.0000 - val_fn: 245.0000 - val_accuracy: 0.8980 - val_precision: 0.6529 - val_recall: 0.6510 - val_auc: 0.8927\n",
      "Epoch 50/100\n",
      "19140/19140 [==============================] - 0s 18us/sample - loss: 3.6178e-05 - tp: 1792.0000 - fp: 1059.0000 - tn: 15372.0000 - fn: 917.0000 - accuracy: 0.8968 - precision: 0.6286 - recall: 0.6615 - auc: 0.8766 - val_loss: 3.5327e-05 - val_tp: 457.0000 - val_fp: 243.0000 - val_tn: 3841.0000 - val_fn: 245.0000 - val_accuracy: 0.8980 - val_precision: 0.6529 - val_recall: 0.6510 - val_auc: 0.8926\n",
      "Epoch 51/100\n",
      "19140/19140 [==============================] - 0s 20us/sample - loss: 3.5808e-05 - tp: 1803.0000 - fp: 985.0000 - tn: 15446.0000 - fn: 906.0000 - accuracy: 0.9012 - precision: 0.6467 - recall: 0.6656 - auc: 0.8813 - val_loss: 3.5157e-05 - val_tp: 457.0000 - val_fp: 245.0000 - val_tn: 3839.0000 - val_fn: 245.0000 - val_accuracy: 0.8976 - val_precision: 0.6510 - val_recall: 0.6510 - val_auc: 0.8938\n",
      "Epoch 52/100\n",
      "19140/19140 [==============================] - 0s 17us/sample - loss: 3.5785e-05 - tp: 1802.0000 - fp: 994.0000 - tn: 15437.0000 - fn: 907.0000 - accuracy: 0.9007 - precision: 0.6445 - recall: 0.6652 - auc: 0.8794 - val_loss: 3.5027e-05 - val_tp: 457.0000 - val_fp: 232.0000 - val_tn: 3852.0000 - val_fn: 245.0000 - val_accuracy: 0.9003 - val_precision: 0.6633 - val_recall: 0.6510 - val_auc: 0.8965\n",
      "Epoch 53/100\n",
      "19140/19140 [==============================] - 0s 15us/sample - loss: 3.5747e-05 - tp: 1806.0000 - fp: 1012.0000 - tn: 15419.0000 - fn: 903.0000 - accuracy: 0.8999 - precision: 0.6409 - recall: 0.6667 - auc: 0.8823 - val_loss: 3.4906e-05 - val_tp: 455.0000 - val_fp: 211.0000 - val_tn: 3873.0000 - val_fn: 247.0000 - val_accuracy: 0.9043 - val_precision: 0.6832 - val_recall: 0.6481 - val_auc: 0.8981\n",
      "Epoch 54/100\n",
      "19140/19140 [==============================] - 0s 18us/sample - loss: 3.5736e-05 - tp: 1798.0000 - fp: 893.0000 - tn: 15538.0000 - fn: 911.0000 - accuracy: 0.9057 - precision: 0.6682 - recall: 0.6637 - auc: 0.8859 - val_loss: 3.4722e-05 - val_tp: 457.0000 - val_fp: 220.0000 - val_tn: 3864.0000 - val_fn: 245.0000 - val_accuracy: 0.9028 - val_precision: 0.6750 - val_recall: 0.6510 - val_auc: 0.8999\n",
      "Epoch 55/100\n",
      "19140/19140 [==============================] - 0s 16us/sample - loss: 3.5228e-05 - tp: 1814.0000 - fp: 959.0000 - tn: 15472.0000 - fn: 895.0000 - accuracy: 0.9031 - precision: 0.6542 - recall: 0.6696 - auc: 0.8864 - val_loss: 3.4577e-05 - val_tp: 457.0000 - val_fp: 204.0000 - val_tn: 3880.0000 - val_fn: 245.0000 - val_accuracy: 0.9062 - val_precision: 0.6914 - val_recall: 0.6510 - val_auc: 0.9011\n",
      "Epoch 56/100\n",
      "19140/19140 [==============================] - 0s 15us/sample - loss: 3.5214e-05 - tp: 1817.0000 - fp: 911.0000 - tn: 15520.0000 - fn: 892.0000 - accuracy: 0.9058 - precision: 0.6661 - recall: 0.6707 - auc: 0.8841 - val_loss: 3.4413e-05 - val_tp: 459.0000 - val_fp: 218.0000 - val_tn: 3866.0000 - val_fn: 243.0000 - val_accuracy: 0.9037 - val_precision: 0.6780 - val_recall: 0.6538 - val_auc: 0.9033\n",
      "Epoch 57/100\n",
      "19140/19140 [==============================] - 0s 13us/sample - loss: 3.4960e-05 - tp: 1811.0000 - fp: 848.0000 - tn: 15583.0000 - fn: 898.0000 - accuracy: 0.9088 - precision: 0.6811 - recall: 0.6685 - auc: 0.8897 - val_loss: 3.4263e-05 - val_tp: 461.0000 - val_fp: 201.0000 - val_tn: 3883.0000 - val_fn: 241.0000 - val_accuracy: 0.9076 - val_precision: 0.6964 - val_recall: 0.6567 - val_auc: 0.9047\n",
      "Epoch 58/100\n",
      "19140/19140 [==============================] - 0s 17us/sample - loss: 3.4938e-05 - tp: 1826.0000 - fp: 903.0000 - tn: 15528.0000 - fn: 883.0000 - accuracy: 0.9067 - precision: 0.6691 - recall: 0.6740 - auc: 0.8887 - val_loss: 3.4132e-05 - val_tp: 457.0000 - val_fp: 189.0000 - val_tn: 3895.0000 - val_fn: 245.0000 - val_accuracy: 0.9093 - val_precision: 0.7074 - val_recall: 0.6510 - val_auc: 0.9062\n",
      "Epoch 59/100\n",
      "19140/19140 [==============================] - 0s 18us/sample - loss: 3.4712e-05 - tp: 1826.0000 - fp: 844.0000 - tn: 15587.0000 - fn: 883.0000 - accuracy: 0.9098 - precision: 0.6839 - recall: 0.6740 - auc: 0.8939 - val_loss: 3.3926e-05 - val_tp: 464.0000 - val_fp: 198.0000 - val_tn: 3886.0000 - val_fn: 238.0000 - val_accuracy: 0.9089 - val_precision: 0.7009 - val_recall: 0.6610 - val_auc: 0.9079\n",
      "Epoch 60/100\n",
      "19140/19140 [==============================] - 0s 23us/sample - loss: 3.4674e-05 - tp: 1839.0000 - fp: 906.0000 - tn: 15525.0000 - fn: 870.0000 - accuracy: 0.9072 - precision: 0.6699 - recall: 0.6788 - auc: 0.8908 - val_loss: 3.3758e-05 - val_tp: 466.0000 - val_fp: 193.0000 - val_tn: 3891.0000 - val_fn: 236.0000 - val_accuracy: 0.9104 - val_precision: 0.7071 - val_recall: 0.6638 - val_auc: 0.9101\n",
      "Epoch 61/100\n",
      "19140/19140 [==============================] - 0s 19us/sample - loss: 3.4345e-05 - tp: 1823.0000 - fp: 772.0000 - tn: 15659.0000 - fn: 886.0000 - accuracy: 0.9134 - precision: 0.7025 - recall: 0.6729 - auc: 0.8925 - val_loss: 3.3559e-05 - val_tp: 467.0000 - val_fp: 192.0000 - val_tn: 3892.0000 - val_fn: 235.0000 - val_accuracy: 0.9108 - val_precision: 0.7086 - val_recall: 0.6652 - val_auc: 0.9112\n",
      "Epoch 62/100\n",
      "19140/19140 [==============================] - 0s 20us/sample - loss: 3.4043e-05 - tp: 1861.0000 - fp: 851.0000 - tn: 15580.0000 - fn: 848.0000 - accuracy: 0.9112 - precision: 0.6862 - recall: 0.6870 - auc: 0.8969 - val_loss: 3.3422e-05 - val_tp: 464.0000 - val_fp: 189.0000 - val_tn: 3895.0000 - val_fn: 238.0000 - val_accuracy: 0.9108 - val_precision: 0.7106 - val_recall: 0.6610 - val_auc: 0.9109\n",
      "Epoch 63/100\n",
      "19140/19140 [==============================] - 0s 17us/sample - loss: 3.4296e-05 - tp: 1828.0000 - fp: 817.0000 - tn: 15614.0000 - fn: 881.0000 - accuracy: 0.9113 - precision: 0.6911 - recall: 0.6748 - auc: 0.8940 - val_loss: 3.3234e-05 - val_tp: 468.0000 - val_fp: 193.0000 - val_tn: 3891.0000 - val_fn: 234.0000 - val_accuracy: 0.9108 - val_precision: 0.7080 - val_recall: 0.6667 - val_auc: 0.9129\n",
      "Epoch 64/100\n",
      "19140/19140 [==============================] - 0s 17us/sample - loss: 3.3749e-05 - tp: 1858.0000 - fp: 872.0000 - tn: 15559.0000 - fn: 851.0000 - accuracy: 0.9100 - precision: 0.6806 - recall: 0.6859 - auc: 0.8991 - val_loss: 3.3038e-05 - val_tp: 471.0000 - val_fp: 204.0000 - val_tn: 3880.0000 - val_fn: 231.0000 - val_accuracy: 0.9091 - val_precision: 0.6978 - val_recall: 0.6709 - val_auc: 0.9125\n",
      "Epoch 65/100\n",
      "19140/19140 [==============================] - 0s 20us/sample - loss: 3.4028e-05 - tp: 1854.0000 - fp: 817.0000 - tn: 15614.0000 - fn: 855.0000 - accuracy: 0.9126 - precision: 0.6941 - recall: 0.6844 - auc: 0.8964 - val_loss: 3.2892e-05 - val_tp: 468.0000 - val_fp: 181.0000 - val_tn: 3903.0000 - val_fn: 234.0000 - val_accuracy: 0.9133 - val_precision: 0.7211 - val_recall: 0.6667 - val_auc: 0.9161\n",
      "Epoch 66/100\n",
      "19140/19140 [==============================] - 0s 18us/sample - loss: 3.3666e-05 - tp: 1860.0000 - fp: 769.0000 - tn: 15662.0000 - fn: 849.0000 - accuracy: 0.9155 - precision: 0.7075 - recall: 0.6866 - auc: 0.8987 - val_loss: 3.2699e-05 - val_tp: 469.0000 - val_fp: 176.0000 - val_tn: 3908.0000 - val_fn: 233.0000 - val_accuracy: 0.9145 - val_precision: 0.7271 - val_recall: 0.6681 - val_auc: 0.9183\n",
      "Epoch 67/100\n",
      "19140/19140 [==============================] - 0s 17us/sample - loss: 3.3710e-05 - tp: 1862.0000 - fp: 756.0000 - tn: 15675.0000 - fn: 847.0000 - accuracy: 0.9162 - precision: 0.7112 - recall: 0.6873 - auc: 0.8998 - val_loss: 3.2482e-05 - val_tp: 473.0000 - val_fp: 183.0000 - val_tn: 3901.0000 - val_fn: 229.0000 - val_accuracy: 0.9139 - val_precision: 0.7210 - val_recall: 0.6738 - val_auc: 0.9202\n",
      "Epoch 68/100\n",
      "19140/19140 [==============================] - 0s 20us/sample - loss: 3.3318e-05 - tp: 1871.0000 - fp: 823.0000 - tn: 15608.0000 - fn: 838.0000 - accuracy: 0.9132 - precision: 0.6945 - recall: 0.6907 - auc: 0.9030 - val_loss: 3.2324e-05 - val_tp: 473.0000 - val_fp: 156.0000 - val_tn: 3928.0000 - val_fn: 229.0000 - val_accuracy: 0.9196 - val_precision: 0.7520 - val_recall: 0.6738 - val_auc: 0.9247\n",
      "Epoch 69/100\n",
      "19140/19140 [==============================] - 0s 24us/sample - loss: 3.3059e-05 - tp: 1864.0000 - fp: 765.0000 - tn: 15666.0000 - fn: 845.0000 - accuracy: 0.9159 - precision: 0.7090 - recall: 0.6881 - auc: 0.9030 - val_loss: 3.2170e-05 - val_tp: 472.0000 - val_fp: 152.0000 - val_tn: 3932.0000 - val_fn: 230.0000 - val_accuracy: 0.9202 - val_precision: 0.7564 - val_recall: 0.6724 - val_auc: 0.9232\n",
      "Epoch 70/100\n",
      "19140/19140 [==============================] - 0s 18us/sample - loss: 3.3034e-05 - tp: 1853.0000 - fp: 726.0000 - tn: 15705.0000 - fn: 856.0000 - accuracy: 0.9173 - precision: 0.7185 - recall: 0.6840 - auc: 0.9059 - val_loss: 3.1903e-05 - val_tp: 480.0000 - val_fp: 175.0000 - val_tn: 3909.0000 - val_fn: 222.0000 - val_accuracy: 0.9170 - val_precision: 0.7328 - val_recall: 0.6838 - val_auc: 0.9238\n",
      "Epoch 71/100\n",
      "19140/19140 [==============================] - 0s 18us/sample - loss: 3.2969e-05 - tp: 1883.0000 - fp: 781.0000 - tn: 15650.0000 - fn: 826.0000 - accuracy: 0.9160 - precision: 0.7068 - recall: 0.6951 - auc: 0.9052 - val_loss: 3.1683e-05 - val_tp: 487.0000 - val_fp: 179.0000 - val_tn: 3905.0000 - val_fn: 215.0000 - val_accuracy: 0.9177 - val_precision: 0.7312 - val_recall: 0.6937 - val_auc: 0.9258\n",
      "Epoch 72/100\n",
      "19140/19140 [==============================] - 0s 17us/sample - loss: 3.2695e-05 - tp: 1903.0000 - fp: 780.0000 - tn: 15651.0000 - fn: 806.0000 - accuracy: 0.9171 - precision: 0.7093 - recall: 0.7025 - auc: 0.9062 - val_loss: 3.1472e-05 - val_tp: 480.0000 - val_fp: 149.0000 - val_tn: 3935.0000 - val_fn: 222.0000 - val_accuracy: 0.9225 - val_precision: 0.7631 - val_recall: 0.6838 - val_auc: 0.9297\n",
      "Epoch 73/100\n",
      "19140/19140 [==============================] - 0s 17us/sample - loss: 3.2977e-05 - tp: 1875.0000 - fp: 687.0000 - tn: 15744.0000 - fn: 834.0000 - accuracy: 0.9205 - precision: 0.7319 - recall: 0.6921 - auc: 0.9071 - val_loss: 3.1302e-05 - val_tp: 486.0000 - val_fp: 154.0000 - val_tn: 3930.0000 - val_fn: 216.0000 - val_accuracy: 0.9227 - val_precision: 0.7594 - val_recall: 0.6923 - val_auc: 0.9296\n",
      "Epoch 74/100\n",
      "19140/19140 [==============================] - 0s 17us/sample - loss: 3.2530e-05 - tp: 1897.0000 - fp: 714.0000 - tn: 15717.0000 - fn: 812.0000 - accuracy: 0.9203 - precision: 0.7265 - recall: 0.7003 - auc: 0.9087 - val_loss: 3.1174e-05 - val_tp: 480.0000 - val_fp: 144.0000 - val_tn: 3940.0000 - val_fn: 222.0000 - val_accuracy: 0.9235 - val_precision: 0.7692 - val_recall: 0.6838 - val_auc: 0.9320\n",
      "Epoch 75/100\n",
      "19140/19140 [==============================] - 0s 16us/sample - loss: 3.2205e-05 - tp: 1915.0000 - fp: 730.0000 - tn: 15701.0000 - fn: 794.0000 - accuracy: 0.9204 - precision: 0.7240 - recall: 0.7069 - auc: 0.9114 - val_loss: 3.1008e-05 - val_tp: 480.0000 - val_fp: 137.0000 - val_tn: 3947.0000 - val_fn: 222.0000 - val_accuracy: 0.9250 - val_precision: 0.7780 - val_recall: 0.6838 - val_auc: 0.9337\n",
      "Epoch 76/100\n",
      "19140/19140 [==============================] - 0s 18us/sample - loss: 3.2182e-05 - tp: 1885.0000 - fp: 653.0000 - tn: 15778.0000 - fn: 824.0000 - accuracy: 0.9228 - precision: 0.7427 - recall: 0.6958 - auc: 0.9122 - val_loss: 3.0832e-05 - val_tp: 486.0000 - val_fp: 146.0000 - val_tn: 3938.0000 - val_fn: 216.0000 - val_accuracy: 0.9244 - val_precision: 0.7690 - val_recall: 0.6923 - val_auc: 0.9344\n",
      "Epoch 77/100\n",
      "19140/19140 [==============================] - 0s 19us/sample - loss: 3.1776e-05 - tp: 1910.0000 - fp: 618.0000 - tn: 15813.0000 - fn: 799.0000 - accuracy: 0.9260 - precision: 0.7555 - recall: 0.7051 - auc: 0.9141 - val_loss: 3.0672e-05 - val_tp: 485.0000 - val_fp: 131.0000 - val_tn: 3953.0000 - val_fn: 217.0000 - val_accuracy: 0.9273 - val_precision: 0.7873 - val_recall: 0.6909 - val_auc: 0.9352\n",
      "Epoch 78/100\n",
      "19140/19140 [==============================] - 0s 20us/sample - loss: 3.1708e-05 - tp: 1931.0000 - fp: 699.0000 - tn: 15732.0000 - fn: 778.0000 - accuracy: 0.9228 - precision: 0.7342 - recall: 0.7128 - auc: 0.9151 - val_loss: 3.0494e-05 - val_tp: 489.0000 - val_fp: 138.0000 - val_tn: 3946.0000 - val_fn: 213.0000 - val_accuracy: 0.9267 - val_precision: 0.7799 - val_recall: 0.6966 - val_auc: 0.9374\n",
      "Epoch 79/100\n",
      "19140/19140 [==============================] - 0s 21us/sample - loss: 3.1729e-05 - tp: 1901.0000 - fp: 598.0000 - tn: 15833.0000 - fn: 808.0000 - accuracy: 0.9265 - precision: 0.7607 - recall: 0.7017 - auc: 0.9165 - val_loss: 3.0412e-05 - val_tp: 484.0000 - val_fp: 120.0000 - val_tn: 3964.0000 - val_fn: 218.0000 - val_accuracy: 0.9294 - val_precision: 0.8013 - val_recall: 0.6895 - val_auc: 0.9382\n",
      "Epoch 80/100\n",
      "19140/19140 [==============================] - 0s 17us/sample - loss: 3.1487e-05 - tp: 1901.0000 - fp: 585.0000 - tn: 15846.0000 - fn: 808.0000 - accuracy: 0.9272 - precision: 0.7647 - recall: 0.7017 - auc: 0.9160 - val_loss: 3.0264e-05 - val_tp: 509.0000 - val_fp: 163.0000 - val_tn: 3921.0000 - val_fn: 193.0000 - val_accuracy: 0.9256 - val_precision: 0.7574 - val_recall: 0.7251 - val_auc: 0.9341\n",
      "Epoch 81/100\n",
      "19140/19140 [==============================] - 0s 19us/sample - loss: 3.1470e-05 - tp: 1931.0000 - fp: 697.0000 - tn: 15734.0000 - fn: 778.0000 - accuracy: 0.9229 - precision: 0.7348 - recall: 0.7128 - auc: 0.9167 - val_loss: 3.0139e-05 - val_tp: 483.0000 - val_fp: 118.0000 - val_tn: 3966.0000 - val_fn: 219.0000 - val_accuracy: 0.9296 - val_precision: 0.8037 - val_recall: 0.6880 - val_auc: 0.9397\n",
      "Epoch 82/100\n",
      "19140/19140 [==============================] - 0s 17us/sample - loss: 3.1185e-05 - tp: 1924.0000 - fp: 637.0000 - tn: 15794.0000 - fn: 785.0000 - accuracy: 0.9257 - precision: 0.7513 - recall: 0.7102 - auc: 0.9192 - val_loss: 2.9961e-05 - val_tp: 490.0000 - val_fp: 120.0000 - val_tn: 3964.0000 - val_fn: 212.0000 - val_accuracy: 0.9306 - val_precision: 0.8033 - val_recall: 0.6980 - val_auc: 0.9398\n",
      "Epoch 83/100\n",
      "19140/19140 [==============================] - 0s 22us/sample - loss: 3.1191e-05 - tp: 1933.0000 - fp: 633.0000 - tn: 15798.0000 - fn: 776.0000 - accuracy: 0.9264 - precision: 0.7533 - recall: 0.7135 - auc: 0.9149 - val_loss: 2.9766e-05 - val_tp: 501.0000 - val_fp: 132.0000 - val_tn: 3952.0000 - val_fn: 201.0000 - val_accuracy: 0.9304 - val_precision: 0.7915 - val_recall: 0.7137 - val_auc: 0.9403\n",
      "Epoch 84/100\n",
      "19140/19140 [==============================] - 0s 18us/sample - loss: 3.1105e-05 - tp: 1942.0000 - fp: 646.0000 - tn: 15785.0000 - fn: 767.0000 - accuracy: 0.9262 - precision: 0.7504 - recall: 0.7169 - auc: 0.9209 - val_loss: 2.9648e-05 - val_tp: 501.0000 - val_fp: 129.0000 - val_tn: 3955.0000 - val_fn: 201.0000 - val_accuracy: 0.9310 - val_precision: 0.7952 - val_recall: 0.7137 - val_auc: 0.9404\n",
      "Epoch 85/100\n",
      "19140/19140 [==============================] - 0s 18us/sample - loss: 3.0939e-05 - tp: 1918.0000 - fp: 600.0000 - tn: 15831.0000 - fn: 791.0000 - accuracy: 0.9273 - precision: 0.7617 - recall: 0.7080 - auc: 0.9196 - val_loss: 2.9505e-05 - val_tp: 499.0000 - val_fp: 119.0000 - val_tn: 3965.0000 - val_fn: 203.0000 - val_accuracy: 0.9327 - val_precision: 0.8074 - val_recall: 0.7108 - val_auc: 0.9433\n",
      "Epoch 86/100\n",
      "19140/19140 [==============================] - 0s 20us/sample - loss: 3.0653e-05 - tp: 1965.0000 - fp: 613.0000 - tn: 15818.0000 - fn: 744.0000 - accuracy: 0.9291 - precision: 0.7622 - recall: 0.7254 - auc: 0.9247 - val_loss: 2.9381e-05 - val_tp: 500.0000 - val_fp: 114.0000 - val_tn: 3970.0000 - val_fn: 202.0000 - val_accuracy: 0.9340 - val_precision: 0.8143 - val_recall: 0.7123 - val_auc: 0.9435\n",
      "Epoch 87/100\n",
      "19140/19140 [==============================] - 0s 16us/sample - loss: 3.0610e-05 - tp: 1947.0000 - fp: 614.0000 - tn: 15817.0000 - fn: 762.0000 - accuracy: 0.9281 - precision: 0.7602 - recall: 0.7187 - auc: 0.9245 - val_loss: 2.9241e-05 - val_tp: 498.0000 - val_fp: 107.0000 - val_tn: 3977.0000 - val_fn: 204.0000 - val_accuracy: 0.9350 - val_precision: 0.8231 - val_recall: 0.7094 - val_auc: 0.9450\n",
      "Epoch 88/100\n",
      "19140/19140 [==============================] - 0s 17us/sample - loss: 3.0752e-05 - tp: 1951.0000 - fp: 616.0000 - tn: 15815.0000 - fn: 758.0000 - accuracy: 0.9282 - precision: 0.7600 - recall: 0.7202 - auc: 0.9212 - val_loss: 2.9038e-05 - val_tp: 508.0000 - val_fp: 125.0000 - val_tn: 3959.0000 - val_fn: 194.0000 - val_accuracy: 0.9333 - val_precision: 0.8025 - val_recall: 0.7236 - val_auc: 0.9450\n",
      "Epoch 89/100\n",
      "19140/19140 [==============================] - 0s 22us/sample - loss: 3.0251e-05 - tp: 1964.0000 - fp: 627.0000 - tn: 15804.0000 - fn: 745.0000 - accuracy: 0.9283 - precision: 0.7580 - recall: 0.7250 - auc: 0.9244 - val_loss: 2.9014e-05 - val_tp: 495.0000 - val_fp: 98.0000 - val_tn: 3986.0000 - val_fn: 207.0000 - val_accuracy: 0.9363 - val_precision: 0.8347 - val_recall: 0.7051 - val_auc: 0.9459\n",
      "Epoch 90/100\n",
      "19140/19140 [==============================] - 0s 14us/sample - loss: 3.0513e-05 - tp: 1961.0000 - fp: 612.0000 - tn: 15819.0000 - fn: 748.0000 - accuracy: 0.9289 - precision: 0.7621 - recall: 0.7239 - auc: 0.9219 - val_loss: 2.8825e-05 - val_tp: 511.0000 - val_fp: 119.0000 - val_tn: 3965.0000 - val_fn: 191.0000 - val_accuracy: 0.9352 - val_precision: 0.8111 - val_recall: 0.7279 - val_auc: 0.9448\n",
      "Epoch 91/100\n",
      "19140/19140 [==============================] - 0s 17us/sample - loss: 3.0169e-05 - tp: 1946.0000 - fp: 577.0000 - tn: 15854.0000 - fn: 763.0000 - accuracy: 0.9300 - precision: 0.7713 - recall: 0.7183 - auc: 0.9219 - val_loss: 2.8754e-05 - val_tp: 499.0000 - val_fp: 99.0000 - val_tn: 3985.0000 - val_fn: 203.0000 - val_accuracy: 0.9369 - val_precision: 0.8344 - val_recall: 0.7108 - val_auc: 0.9473\n",
      "Epoch 92/100\n",
      "19140/19140 [==============================] - 0s 16us/sample - loss: 2.9821e-05 - tp: 1959.0000 - fp: 575.0000 - tn: 15856.0000 - fn: 750.0000 - accuracy: 0.9308 - precision: 0.7731 - recall: 0.7231 - auc: 0.9279 - val_loss: 2.8589e-05 - val_tp: 504.0000 - val_fp: 100.0000 - val_tn: 3984.0000 - val_fn: 198.0000 - val_accuracy: 0.9377 - val_precision: 0.8344 - val_recall: 0.7179 - val_auc: 0.9477\n",
      "Epoch 93/100\n",
      "19140/19140 [==============================] - 0s 19us/sample - loss: 2.9864e-05 - tp: 1963.0000 - fp: 575.0000 - tn: 15856.0000 - fn: 746.0000 - accuracy: 0.9310 - precision: 0.7734 - recall: 0.7246 - auc: 0.9275 - val_loss: 2.8450e-05 - val_tp: 505.0000 - val_fp: 94.0000 - val_tn: 3990.0000 - val_fn: 197.0000 - val_accuracy: 0.9392 - val_precision: 0.8431 - val_recall: 0.7194 - val_auc: 0.9486\n",
      "Epoch 94/100\n",
      "19140/19140 [==============================] - 0s 22us/sample - loss: 2.9910e-05 - tp: 1977.0000 - fp: 606.0000 - tn: 15825.0000 - fn: 732.0000 - accuracy: 0.9301 - precision: 0.7654 - recall: 0.7298 - auc: 0.9264 - val_loss: 2.8347e-05 - val_tp: 499.0000 - val_fp: 86.0000 - val_tn: 3998.0000 - val_fn: 203.0000 - val_accuracy: 0.9396 - val_precision: 0.8530 - val_recall: 0.7108 - val_auc: 0.9500\n",
      "Epoch 95/100\n",
      "19140/19140 [==============================] - 0s 17us/sample - loss: 2.9997e-05 - tp: 1968.0000 - fp: 564.0000 - tn: 15867.0000 - fn: 741.0000 - accuracy: 0.9318 - precision: 0.7773 - recall: 0.7265 - auc: 0.9267 - val_loss: 2.8184e-05 - val_tp: 505.0000 - val_fp: 89.0000 - val_tn: 3995.0000 - val_fn: 197.0000 - val_accuracy: 0.9402 - val_precision: 0.8502 - val_recall: 0.7194 - val_auc: 0.9506\n",
      "Epoch 96/100\n",
      "19140/19140 [==============================] - 0s 18us/sample - loss: 2.9727e-05 - tp: 1969.0000 - fp: 568.0000 - tn: 15863.0000 - fn: 740.0000 - accuracy: 0.9317 - precision: 0.7761 - recall: 0.7268 - auc: 0.9278 - val_loss: 2.8052e-05 - val_tp: 506.0000 - val_fp: 76.0000 - val_tn: 4008.0000 - val_fn: 196.0000 - val_accuracy: 0.9432 - val_precision: 0.8694 - val_recall: 0.7208 - val_auc: 0.9514\n",
      "Epoch 97/100\n",
      "19140/19140 [==============================] - 0s 18us/sample - loss: 2.9315e-05 - tp: 1968.0000 - fp: 586.0000 - tn: 15845.0000 - fn: 741.0000 - accuracy: 0.9307 - precision: 0.7706 - recall: 0.7265 - auc: 0.9301 - val_loss: 2.7865e-05 - val_tp: 511.0000 - val_fp: 78.0000 - val_tn: 4006.0000 - val_fn: 191.0000 - val_accuracy: 0.9438 - val_precision: 0.8676 - val_recall: 0.7279 - val_auc: 0.9525\n",
      "Epoch 98/100\n",
      "19140/19140 [==============================] - 0s 18us/sample - loss: 2.9509e-05 - tp: 1980.0000 - fp: 527.0000 - tn: 15904.0000 - fn: 729.0000 - accuracy: 0.9344 - precision: 0.7898 - recall: 0.7309 - auc: 0.9282 - val_loss: 2.7722e-05 - val_tp: 510.0000 - val_fp: 71.0000 - val_tn: 4013.0000 - val_fn: 192.0000 - val_accuracy: 0.9450 - val_precision: 0.8778 - val_recall: 0.7265 - val_auc: 0.9549\n",
      "Epoch 99/100\n",
      "19140/19140 [==============================] - 0s 19us/sample - loss: 2.9201e-05 - tp: 1979.0000 - fp: 545.0000 - tn: 15886.0000 - fn: 730.0000 - accuracy: 0.9334 - precision: 0.7841 - recall: 0.7305 - auc: 0.9323 - val_loss: 2.7579e-05 - val_tp: 515.0000 - val_fp: 71.0000 - val_tn: 4013.0000 - val_fn: 187.0000 - val_accuracy: 0.9461 - val_precision: 0.8788 - val_recall: 0.7336 - val_auc: 0.9548\n",
      "Epoch 100/100\n",
      "19140/19140 [==============================] - 0s 21us/sample - loss: 2.9254e-05 - tp: 1988.0000 - fp: 540.0000 - tn: 15891.0000 - fn: 721.0000 - accuracy: 0.9341 - precision: 0.7864 - recall: 0.7339 - auc: 0.9340 - val_loss: 2.7411e-05 - val_tp: 515.0000 - val_fp: 74.0000 - val_tn: 4010.0000 - val_fn: 187.0000 - val_accuracy: 0.9455 - val_precision: 0.8744 - val_recall: 0.7336 - val_auc: 0.9554\n"
     ]
    }
   ],
   "source": [
    "# Training....\n",
    "\n",
    "results = model.fit(\n",
    "    train_set,\n",
    "    train_labels,\n",
    "    batch_size=BATCH_SIZE,\n",
    "    epochs=EPOCHS,\n",
    "    callbacks = [early_stopping],\n",
    "    validation_data=(test_set, test_labels),\n",
    "    class_weight=class_weight)"
   ]
  },
  {
   "cell_type": "code",
   "execution_count": 15,
   "metadata": {},
   "outputs": [
    {
     "data": {
      "image/png": "[encoded data removed]",
      "text/plain": [
       "<Figure size 864x720 with 4 Axes>"
      ]
     },
     "metadata": {
      "needs_background": "light"
     },
     "output_type": "display_data"
    }
   ],
   "source": [
    "# Now, lets plot the metrics and visualize it.\n",
    "\n",
    "mpl.rcParams['figure.figsize'] = (12, 10)\n",
    "colors = plt.rcParams['axes.prop_cycle'].by_key()['color']\n",
    "\n",
    "def plot_metrics(history):\n",
    "  metrics =  ['loss', 'auc', 'precision', 'recall']\n",
    "  for n, metric in enumerate(metrics):\n",
    "    name = metric.replace(\"_\",\" \").capitalize()\n",
    "    plt.subplot(2,2,n+1)\n",
    "    plt.plot(history.epoch,  history.history[metric], color=colors[0], label='Train')\n",
    "    plt.plot(history.epoch, history.history['val_'+metric],\n",
    "             color=colors[0], linestyle=\"--\", label='Val')\n",
    "    plt.xlabel('Epoch')\n",
    "    plt.ylabel(name)\n",
    "    if metric == 'loss':\n",
    "      plt.ylim([0, plt.ylim()[1]])\n",
    "    elif metric == 'auc':\n",
    "      plt.ylim([0.8,1])\n",
    "    else:\n",
    "      plt.ylim([0,1])\n",
    "\n",
    "    plt.legend()\n",
    "\n",
    "plot_metrics(results)"
   ]
  },
  {
   "cell_type": "code",
   "execution_count": 16,
   "metadata": {},
   "outputs": [],
   "source": [
    "# Printing the Confusion Matrix. It will help us to know the false positives and negatives as well as true positives and negatives.\n",
    "\n",
    "predicted = model.predict(test_set)\n",
    "\n",
    "y_pred = []\n",
    "\n",
    "for i in predicted.tolist():\n",
    "  y_pred.append(int(round(i[0])))"
   ]
  },
  {
   "cell_type": "code",
   "execution_count": 17,
   "metadata": {},
   "outputs": [
    {
     "name": "stdout",
     "output_type": "stream",
     "text": [
      "[[4010   74]\n",
      " [ 187  515]]\n"
     ]
    }
   ],
   "source": [
    "cm = confusion_matrix(test_labels.values, y_pred)\n",
    "print(cm)"
   ]
  },
  {
   "cell_type": "code",
   "execution_count": 18,
   "metadata": {},
   "outputs": [],
   "source": [
    "# Visualizze it even better we can plot it using confusion matrix library\n",
    "\n",
    "def plot_confusion_matrix(cm, classes,\n",
    "                          normalize=False,\n",
    "                          title='Confusion matrix',\n",
    "                          cmap=plt.cm.Blues):\n",
    "    \"\"\"\n",
    "    This function prints and plots the confusion matrix.\n",
    "    Normalization can be applied by setting `normalize=True`.\n",
    "    \"\"\"\n",
    "    plt.imshow(cm, interpolation='nearest', cmap=cmap)\n",
    "    plt.title(title)\n",
    "    plt.colorbar()\n",
    "    tick_marks = np.arange(len(classes))\n",
    "    plt.xticks(tick_marks, classes, rotation=45)\n",
    "    plt.yticks(tick_marks, classes)\n",
    "\n",
    "    if normalize:\n",
    "        cm = np.round(cm.astype('float') / cm.sum(axis=1)[:, np.newaxis], 3)\n",
    "\n",
    "    thresh = cm.max() / 2.\n",
    "    for i, j in itertools.product(range(cm.shape[0]), range(cm.shape[1])):\n",
    "        plt.text(j, i, cm[i, j],\n",
    "                 horizontalalignment=\"center\",\n",
    "                 color=\"white\" if cm[i, j] > thresh else \"black\")\n",
    "\n",
    "    plt.tight_layout()\n",
    "    plt.ylabel('True label')\n",
    "    plt.xlabel('Predicted label')"
   ]
  },
  {
   "cell_type": "code",
   "execution_count": 19,
   "metadata": {},
   "outputs": [
    {
     "data": {
      "image/png": "[encoded data removed]",
      "text/plain": [
       "<Figure size 864x720 with 2 Axes>"
      ]
     },
     "metadata": {
      "needs_background": "light"
     },
     "output_type": "display_data"
    }
   ],
   "source": [
    "classes = ['not fraud', 'fraud']\n",
    "plot_confusion_matrix(cm, classes, normalize=True)"
   ]
  },
  {
   "cell_type": "code",
   "execution_count": 20,
   "metadata": {},
   "outputs": [
    {
     "name": "stdout",
     "output_type": "stream",
     "text": [
      "WARNING:tensorflow:From /opt/conda/lib/python3.7/site-packages/tensorflow_core/python/ops/resource_variable_ops.py:1786: calling BaseResourceVariable.__init__ (from tensorflow.python.ops.resource_variable_ops) with constraint is deprecated and will be removed in a future version.\n",
      "Instructions for updating:\n",
      "If using Keras pass *_constraint arguments to layers.\n",
      "INFO:tensorflow:Assets written to: fraud_model/assets\n"
     ]
    }
   ],
   "source": [
    "# Let's export our trained model.\n",
    "\n",
    "model_dir = 'fraud_model'\n",
    "tf.saved_model.save(model, model_dir)"
   ]
  },
  {
   "cell_type": "code",
   "execution_count": 21,
   "metadata": {},
   "outputs": [
    {
     "name": "stdout",
     "output_type": "stream",
     "text": [
      "{'outputs': OrderedDict([('dense_1', {'output_tensor_name': 'dense_1'})]), 'inputs': OrderedDict([('dense_input', {'input_tensor_name': 'dense_input', 'encoding': 'identity', 'modality': 'numeric'})]), 'framework': 'tensorflow2', 'tags': ['explainable_ai_sdk']}\n"
     ]
    }
   ],
   "source": [
    "#Getting metedata from the sdk model\n",
    "\n",
    "model_builder = SavedModelMetadataBuilder(model_dir)\n",
    "metadata = model_builder.get_metadata()\n",
    "print(metadata)"
   ]
  },
  {
   "cell_type": "code",
   "execution_count": 22,
   "metadata": {},
   "outputs": [],
   "source": [
    "# we have to set a baseline so that we can compare it with the value which is generated by explainable sdk.\n",
    "# Thus, we calculate the median of non-fraudlent transactions as out baseline reference.\n",
    "\n",
    "not_fraud_sample = not_fraud_sample.drop(columns=['nameOrig', 'nameDest', 'isFlaggedFraud', 'isFraud'])\n",
    "\n",
    "baseline = scaler.transform(not_fraud_sample.values)\n",
    "baseline = np.clip(baseline, -5, 5)\n",
    "baseline_values = np.median(baseline, axis=0)"
   ]
  },
  {
   "cell_type": "code",
   "execution_count": 23,
   "metadata": {},
   "outputs": [],
   "source": [
    "input_name = list(metadata['inputs'])[0]\n",
    "model_builder.set_numeric_metadata(input_name, input_baselines=[baseline_values.tolist()], index_feature_mapping=df.columns.tolist()[:6])\n",
    "model_builder.save_metadata(model_dir)"
   ]
  },
  {
   "cell_type": "code",
   "execution_count": 24,
   "metadata": {},
   "outputs": [],
   "source": [
    "# Getting model explanations\n",
    "\n",
    "local_model = explainable_ai_sdk.load_model_from_local_path(\n",
    "    model_dir, \n",
    "    explainable_ai_sdk.SampledShapleyConfig()\n",
    ")"
   ]
  },
  {
   "cell_type": "code",
   "execution_count": 25,
   "metadata": {},
   "outputs": [
    {
     "name": "stdout",
     "output_type": "stream",
     "text": [
      "Label Index 0\n",
      "Example Score: 0.9715\n",
      "Baseline Score: 0.2952\n",
      "Approximation Error: 0.0316\n"
     ]
    },
    {
     "data": {
      "image/png": "[encoded data removed]",
      "text/plain": [
       "<Figure size 864x720 with 1 Axes>"
      ]
     },
     "metadata": {
      "needs_background": "light"
     },
     "output_type": "display_data"
    }
   ],
   "source": [
    "# Run an example which should be classified as fraudlent transaction\n",
    "\n",
    "fraud_example = [0.722,0.139,-0.114,-0.258,-0.271,-0.305]\n",
    "response = local_model.explain([{input_name: fraud_example}])\n",
    "response[0].visualize_attributions()"
   ]
  },
  {
   "cell_type": "code",
   "execution_count": 26,
   "metadata": {},
   "outputs": [],
   "source": [
    "local_model = explainable_ai_sdk.load_model_from_local_path(\n",
    "    model_dir, \n",
    "    explainable_ai_sdk.SampledShapleyConfig(path_count=20)\n",
    ")"
   ]
  },
  {
   "cell_type": "code",
   "execution_count": 27,
   "metadata": {},
   "outputs": [],
   "source": [
    "# The Last step is to deploy the model to Cloud AI Platform\n",
    "\n",
    "# Update these to your own GCP project and model\n",
    "GCP_PROJECT = 'fraud-detection-297006'\n",
    "MODEL_BUCKET = 'gs://fraud-detection-297006'"
   ]
  },
  {
   "cell_type": "code",
   "execution_count": 28,
   "metadata": {},
   "outputs": [
    {
     "name": "stdout",
     "output_type": "stream",
     "text": [
      "Creating gs://fraud-detection-297006/...\n"
     ]
    }
   ],
   "source": [
    "# Now, create a bucket on GCP.\n",
    "\n",
    "!gsutil mb $MODEL_BUCKET"
   ]
  },
  {
   "cell_type": "code",
   "execution_count": 29,
   "metadata": {},
   "outputs": [
    {
     "name": "stdout",
     "output_type": "stream",
     "text": [
      "Copying file://./fraud_model/explanation_metadata.json [Content-Type=application/json]...\n",
      "Copying file://./fraud_model/saved_model.pb [Content-Type=application/octet-stream]...\n",
      "Copying file://./fraud_model/variables/variables.index [Content-Type=application/octet-stream]...\n",
      "Copying file://./fraud_model/variables/variables.data-00000-of-00001 [Content-Type=application/octet-stream]...\n",
      "/ [4/4 files][128.0 KiB/128.0 KiB] 100% Done                                    \n",
      "Operation completed over 4 objects/128.0 KiB.                                    \n"
     ]
    }
   ],
   "source": [
    "#Copy our local directory into the bucket.\n",
    "\n",
    "!gsutil -m cp -r ./$model_dir/* $MODEL_BUCKET/explanations"
   ]
  },
  {
   "cell_type": "code",
   "execution_count": 30,
   "metadata": {},
   "outputs": [],
   "source": [
    "# Deploy the model\n",
    "\n",
    "MODEL = 'fraud_detection'\n",
    "VERSION = 'v1'\n",
    "model_path = MODEL_BUCKET + '/explanations'"
   ]
  },
  {
   "cell_type": "code",
   "execution_count": 31,
   "metadata": {},
   "outputs": [
    {
     "name": "stdout",
     "output_type": "stream",
     "text": [
      "Using endpoint [https://ml.googleapis.com/]\n",
      "\u001b[1;33mWARNING:\u001b[0m Please explicitly specify a region. Using [us-central1] by default on https://ml.googleapis.com. Please note that your model will be inaccessible from https://us-central1-ml.googelapis.com\n",
      "\n",
      "Learn more about regional endpoints and see a list of available regions: https://cloud.google.com/ai-platform/prediction/docs/regional-endpoints\n",
      "\u001b[1;31mERROR:\u001b[0m (gcloud.ai-platform.models.create) Resource in projects [fraud-detection-297006] is the subject of a conflict: Field: model.name Error: A model with the same name already exists.\n",
      "- '@type': type.googleapis.com/google.rpc.BadRequest\n",
      "  fieldViolations:\n",
      "  - description: A model with the same name already exists.\n",
      "    field: model.name\n"
     ]
    }
   ],
   "source": [
    "# Creating model...\n",
    "\n",
    "!gcloud ai-platform models create $MODEL"
   ]
  },
  {
   "cell_type": "code",
   "execution_count": 32,
   "metadata": {},
   "outputs": [
    {
     "name": "stdout",
     "output_type": "stream",
     "text": [
      "Using endpoint [https://ml.googleapis.com/]\n",
      "Explanations reflect patterns in your model, but don't necessarily reveal fundamental relationships about your data population. See https://cloud.google.com/ml-engine/docs/ai-explanations/limitations for more information.\n",
      "\u001b[1;31mERROR:\u001b[0m (gcloud.beta.ai-platform.versions.create) ALREADY_EXISTS: Field: version.name Error: A version with the same name already exists.\n",
      "- '@type': type.googleapis.com/google.rpc.BadRequest\n",
      "  fieldViolations:\n",
      "  - description: A version with the same name already exists.\n",
      "    field: version.name\n"
     ]
    }
   ],
   "source": [
    "!gcloud beta ai-platform versions create $VERSION \\\n",
    "--model $MODEL \\\n",
    "--origin $model_path \\\n",
    "--runtime-version 2.1 \\\n",
    "--framework TENSORFLOW \\\n",
    "--python-version 3.7 \\\n",
    "--machine-type n1-standard-4 \\\n",
    "--explanation-method 'sampled-shapley' \\\n",
    "--num-paths 10"
   ]
  },
  {
   "cell_type": "code",
   "execution_count": null,
   "metadata": {},
   "outputs": [],
   "source": [
    "# Confirm that the model has been deployed\n",
    "\n",
    "!gcloud ai-platform versions describe $VERSION --model $MODEL"
   ]
  },
  {
   "cell_type": "code",
   "execution_count": null,
   "metadata": {},
   "outputs": [],
   "source": [
    "# Getting predictions..\n",
    "\n",
    "fraud_indices = []\n",
    "\n",
    "for i,val in enumerate(test_labels):\n",
    "    if val == 1:\n",
    "        fraud_indices.append(i)"
   ]
  },
  {
   "cell_type": "code",
   "execution_count": null,
   "metadata": {},
   "outputs": [],
   "source": [
    "num_test_examples = 5\n",
    "\n",
    "instances = []\n",
    "for i in range(num_test_examples):\n",
    "    ex = test_set[fraud_indices[i]]\n",
    "    instances.append({input_name: ex.tolist()})"
   ]
  },
  {
   "cell_type": "code",
   "execution_count": null,
   "metadata": {},
   "outputs": [],
   "source": [
    "# We can send these five examples to our model using the SDK. First, we'll create a reference to our deployed model:\n",
    "\n",
    "deployed_model = explainable_ai_sdk.load_model_from_ai_platform(GCP_PROJECT, MODEL, VERSION)"
   ]
  },
  {
   "cell_type": "code",
   "execution_count": null,
   "metadata": {},
   "outputs": [],
   "source": [
    "#Then, we'll get explanations on those examples:\n",
    "\n",
    "explanations = deployed_model.explain(instances)"
   ]
  },
  {
   "cell_type": "code",
   "execution_count": null,
   "metadata": {},
   "outputs": [],
   "source": [
    "#Finally, we can visualize the feature attributions for each of those explanations with the following:\n",
    "\n",
    "\n",
    "for i in explanations:\n",
    "    i.visualize_attributions()"
   ]
  }
 ],
 "metadata": {
  "environment": {
   "name": "tf2-gpu.2-1.m59",
   "type": "gcloud",
   "uri": "gcr.io/deeplearning-platform-release/tf2-gpu.2-1:m59"
  },
  "kernelspec": {
   "display_name": "Python 3",
   "language": "python",
   "name": "python3"
  },
  "language_info": {
   "codemirror_mode": {
    "name": "ipython",
    "version": 3
   },
   "file_extension": ".py",
   "mimetype": "text/x-python",
   "name": "python",
   "nbconvert_exporter": "python",
   "pygments_lexer": "ipython3",
   "version": "3.7.8"
  }
 },
 "nbformat": 4,
 "nbformat_minor": 4
}
